{
 "cells": [
  {
   "cell_type": "code",
   "execution_count": 2,
   "id": "31d82ab4",
   "metadata": {},
   "outputs": [],
   "source": [
    "import numpy as np\n",
    "import matplotlib.pyplot as plt\n",
    "import astropy \n",
    "\n",
    "from astropy.io import fits\n",
    "from astroquery.mast import Observations"
   ]
  },
  {
   "cell_type": "code",
   "execution_count": null,
   "id": "81df1d46",
   "metadata": {},
   "outputs": [
    {
     "name": "stdout",
     "output_type": "stream",
     "text": [
      " [Done]\n"
     ]
    },
    {
     "name": "stderr",
     "output_type": "stream",
     "text": [
      "WARNING: Found cached file ./mastDownload\\HLSP\\hlsp_glass-jwst_jwst_nircam_abell2744_f090w_v1.0_sci\\hlsp_glass-jwst_jwst_nircam_abell2744_f090w_v1.0_rms.fits with size 0 that is different from expected size 2053261440 [astroquery.query]\n",
      "WARNING: Found cached file ./mastDownload\\HLSP\\hlsp_glass-jwst_jwst_nircam_abell2744_f090w_v1.0_sci\\hlsp_glass-jwst_jwst_nircam_abell2744_f090w_v1.0_sci.fits with size 1698299904 that is different from expected size 2053281600 [astroquery.query]\n"
     ]
    },
    {
     "name": "stdout",
     "output_type": "stream",
     "text": [
      " [Done]\n",
      "Downloading URL https://mast.stsci.edu/api/v0.1/Download/file?uri=mast:HLSP/glass-jwst/nircam/hlsp_glass-jwst_jwst_nircam_abell2744_f115w_v1.0_rms.fits to ./mastDownload\\HLSP\\hlsp_glass-jwst_jwst_nircam_abell2744_f115w_v1.0_sci\\hlsp_glass-jwst_jwst_nircam_abell2744_f115w_v1.0_rms.fits ..."
     ]
    }
   ],
   "source": [
    "from astroquery.mast import Observations\n",
    "all_obs = Observations.query_criteria(provenance_name=\"glass-jwst\")\n",
    "data_products = Observations.get_product_list(all_obs)\n",
    "Observations.download_products(data_products)"
   ]
  },
  {
   "cell_type": "code",
   "execution_count": null,
   "id": "2ef7d3fe",
   "metadata": {},
   "outputs": [],
   "source": [
    "import photutils\n",
    "photutils.test()\n",
    "from photutils import DAOStarFinder, aperture_photometry, CircularAperture"
   ]
  },
  {
   "cell_type": "code",
   "execution_count": null,
   "id": "84e97e5f",
   "metadata": {},
   "outputs": [],
   "source": [
    " #Assuming the data is now downloaded, you would load an image as follows:\n",
    "# Replace 'example.fits' with the path to one of the downloaded FITS files\n",
    "# hdu_list = fits.open('./jwst_data/example.fits')\n",
    "# image_data = hdu_list[0].data\n",
    "\n",
    "# For lensing arcs detection, you might start with a generic source finder\n",
    "# Adjust the parameters based on the characteristics of lensing arcs\n",
    "# dao_finder = DAOStarFinder(threshold=5.*std, fwhm=3.0)\n",
    "# sources = dao_finder.find_stars(image_data)\n",
    "\n",
    "# Note: The above is a simplified example. Detecting lensing arcs may require\n",
    "# more sophisticated approaches than a standard star finder due to their\n",
    "# extended and distorted shapes.\n",
    "\n",
    "# Visualizing the detected sources (or arcs in future steps)\n",
    "# positions = np.transpose((sources['xcentroid'], sources['ycentroid']))\n",
    "# apertures = CircularAperture(positions, r=4.)\n",
    "# plt.imshow(image_data, cmap='gray', origin='lower', norm=LogNorm())\n",
    "# apertures.plot(color='blue', lw=1.5, alpha=0.5)\n",
    "\n",
    "# plt.show()\n",
    "\n",
    "# This is a starting point. Your actual analysis will need to be adapted\n",
    "# to the specific characteristics of gravitational lensing arcs, including\n",
    "# potentially using custom algorithms or adapting existing `photutils`\n",
    "# functions for extended object detection."
   ]
  },
  {
   "cell_type": "code",
   "execution_count": null,
   "id": "51c8b6cb",
   "metadata": {},
   "outputs": [],
   "source": []
  }
 ],
 "metadata": {
  "kernelspec": {
   "display_name": "Python 3 (ipykernel)",
   "language": "python",
   "name": "python3"
  },
  "language_info": {
   "codemirror_mode": {
    "name": "ipython",
    "version": 3
   },
   "file_extension": ".py",
   "mimetype": "text/x-python",
   "name": "python",
   "nbconvert_exporter": "python",
   "pygments_lexer": "ipython3",
   "version": "3.11.4"
  }
 },
 "nbformat": 4,
 "nbformat_minor": 5
}
